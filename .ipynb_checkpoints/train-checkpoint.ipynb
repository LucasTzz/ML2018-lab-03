{
 "cells": [
  {
   "cell_type": "code",
   "execution_count": 1,
   "metadata": {},
   "outputs": [
    {
     "name": "stdout",
     "output_type": "stream",
     "text": [
      "Calculating the NPD table...\n"
     ]
    }
   ],
   "source": [
    "import cv2\n",
    "import os\n",
    "import numpy as np\n",
    "import sys\n",
    "import sklearn\n",
    "sys.path.append('/Users/taozizhuo/PycharmProjects/experiment/venv/ML2018-lab-03')\n",
    "from ensemble import AdaBoostClassifier\n",
    "import feature\n",
    "import pickle\n",
    "from sklearn.model_selection import train_test_split\n",
    "\n",
    "\n",
    "if __name__ == \"__main__\":\n",
    "\n",
    "    def get_features(path):\n",
    "        image_paths = [os.path.join(path, f) for f in os.listdir(path)]\n",
    "        features = []\n",
    "\n",
    "        for image_path in image_paths:\n",
    "            img = cv2.imread(image_path)\n",
    "            gray_img = cv2.cvtColor(img, cv2.COLOR_BGR2GRAY)\n",
    "            img_reshape = cv2.resize(gray_img, (25, 25), interpolation=cv2.INTER_CUBIC)\n",
    "            image = feature.NPDFeature(img_reshape)\n",
    "            pre_features = feature.NPDFeature.extract(image)\n",
    "            AdaBoostClassifier.save(pre_features, \"save.p\")\n",
    "            face_feature = AdaBoostClassifier.load(\"save.p\")\n",
    "            features.append(face_feature)\n",
    "\n",
    "        return features\n",
    "\n",
    "\n",
    "    Faces = np.array(get_features('./datasets/original/face'))\n",
    "    Non_faces = np.array(get_features('./datasets/original/nonface'))\n",
    "    n_samples, n_features = Faces.shape\n",
    "    y_faces = []\n",
    "    y_non_faces = []\n",
    "    for i in range(n_samples):\n",
    "        y_faces.append(1)\n",
    "        y_non_faces.append(-1)\n",
    "    y_faces = np.array(y_faces).reshape((-1, 1))\n",
    "    y_non_faces = np.array(y_non_faces).reshape((-1, 1))\n",
    "    Faces_train, Faces_val, y_faces_train, y_faces_val = train_test_split(Faces, y_faces, test_size=0.2)\n",
    "    Non_faces_train, Non_faces_val, y_non_faces_train, y_non_faces_val = train_test_split(Non_faces, y_non_faces,\n",
    "                                                                                          test_size=0.2)\n",
    "    X_train = np.concatenate((Faces_train, Non_faces_train), axis=0)\n",
    "    X_val = np.concatenate((Faces_val, Non_faces_val), axis=0)\n",
    "    y_train = np.concatenate((y_faces_train, y_non_faces_train), axis=0)\n",
    "    y_val = np.concatenate((y_faces_val, y_non_faces_val), axis=0)\n",
    "\n",
    "    X_train = np.column_stack((y_train, X_train))\n",
    "    np.random.shuffle(X_train)\n",
    "    y_train = X_train[:, 0]\n",
    "    X_train= np.delete(X_train, 0, axis=1)"
   ]
  },
  {
   "cell_type": "code",
   "execution_count": 2,
   "metadata": {},
   "outputs": [],
   "source": [
    "    classifier = AdaBoostClassifier(sklearn.tree.DecisionTreeClassifier(), 10)\n",
    "    classifier.fit(X_train, y_train)"
   ]
  },
  {
   "cell_type": "code",
   "execution_count": 3,
   "metadata": {},
   "outputs": [],
   "source": [
    "    predicts = classifier.predict(X_val)\n",
    "    report = sklearn.metrics.classification_report(y_true=y_val, y_pred=predicts, digits=2)"
   ]
  },
  {
   "cell_type": "code",
   "execution_count": 4,
   "metadata": {},
   "outputs": [],
   "source": [
    "    f=open('classifier_report.txt', 'w')\n",
    "    f.write(report)\n",
    "    f.close()\n",
    "    pass"
   ]
  }
 ],
 "metadata": {
  "kernelspec": {
   "display_name": "Python 3",
   "language": "python",
   "name": "python3"
  },
  "language_info": {
   "codemirror_mode": {
    "name": "ipython",
    "version": 3
   },
   "file_extension": ".py",
   "mimetype": "text/x-python",
   "name": "python",
   "nbconvert_exporter": "python",
   "pygments_lexer": "ipython3",
   "version": "3.6.4"
  }
 },
 "nbformat": 4,
 "nbformat_minor": 1
}
